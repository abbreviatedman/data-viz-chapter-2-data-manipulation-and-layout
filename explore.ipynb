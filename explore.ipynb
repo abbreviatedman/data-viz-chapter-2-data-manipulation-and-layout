{
 "cells": [
  {
   "cell_type": "code",
   "execution_count": null,
   "id": "05130276",
   "metadata": {},
   "outputs": [],
   "source": [
    "# import pandas and pyplot and random\n",
    "import pandas as pd\n",
    "import matplotlib.pyplot as plt\n",
    "import random"
   ]
  },
  {
   "cell_type": "code",
   "execution_count": null,
   "id": "fb8bb04b",
   "metadata": {},
   "outputs": [],
   "source": [
    "# read in LargestCompanies.csv"
   ]
  },
  {
   "cell_type": "code",
   "execution_count": null,
   "id": "b3db1ed1",
   "metadata": {},
   "outputs": [],
   "source": [
    "# Put the market cap into a more manageable scale."
   ]
  },
  {
   "cell_type": "code",
   "execution_count": null,
   "id": "63e1a988",
   "metadata": {},
   "outputs": [],
   "source": [
    "# drop the \"rank\" column"
   ]
  },
  {
   "cell_type": "code",
   "execution_count": null,
   "id": "70d9f428",
   "metadata": {},
   "outputs": [],
   "source": [
    "# drop all rows with a price of 0"
   ]
  },
  {
   "cell_type": "code",
   "execution_count": null,
   "id": "01204336",
   "metadata": {},
   "outputs": [],
   "source": [
    "# get company with the highest price"
   ]
  },
  {
   "cell_type": "code",
   "execution_count": null,
   "id": "327bc818",
   "metadata": {},
   "outputs": [],
   "source": [
    "# get average price"
   ]
  },
  {
   "cell_type": "code",
   "execution_count": null,
   "id": "a5b915b4",
   "metadata": {},
   "outputs": [],
   "source": [
    "# how many companies have a price under 100?"
   ]
  },
  {
   "cell_type": "code",
   "execution_count": null,
   "id": "6b423f33",
   "metadata": {},
   "outputs": [],
   "source": [
    "# what is the price for the company with the symbol \"XOM\"?"
   ]
  },
  {
   "cell_type": "code",
   "execution_count": null,
   "id": "069cec8e",
   "metadata": {},
   "outputs": [],
   "source": [
    "# get dataframe of companies grouped by country"
   ]
  },
  {
   "cell_type": "code",
   "execution_count": null,
   "id": "095ddde8",
   "metadata": {},
   "outputs": [],
   "source": [
    "# get the top 5 countries by market cap"
   ]
  },
  {
   "cell_type": "code",
   "execution_count": null,
   "id": "545b7a0b",
   "metadata": {},
   "outputs": [],
   "source": [
    "# plot the top 5 countries in a pie chart"
   ]
  },
  {
   "cell_type": "markdown",
   "id": "b75020b3",
   "metadata": {},
   "source": [
    "# More In-Depth Data Shaping\n",
    "\n",
    "We'll be using:\n",
    "\n",
    "- lambdas and apply to do more in-depth data shaping\n",
    "- notebooks to practice and to explore our data"
   ]
  },
  {
   "cell_type": "code",
   "execution_count": null,
   "id": "0ab1f306",
   "metadata": {},
   "outputs": [],
   "source": [
    "### Lambdas and Apply\n",
    "\n",
    "# define a function that adds 5 to the input number\n",
    "# define a function that adds a random number of cents to the input number\n",
    "# create a dataframe with a column of numbers in the range 10000 to 10010 (inclusive)\n",
    "# define the same two functions as lambdas.\n",
    "# use `apply` to apply both functions to the column of numbers.\n",
    "# substitute lambdas for the functions"
   ]
  },
  {
   "cell_type": "code",
   "execution_count": null,
   "id": "c6492a99",
   "metadata": {},
   "outputs": [],
   "source": [
    "# challenge: use BOTH a named function and apply, and, separately, a lambda function and apply to replace each number in the \"numbers\" with a string with a dollar sign. For example, 10000.56 should become \"$10000.56\" and 10001.05 should become \"$10001.05\".\n",
    "# bonus: add commas where appropriate and keep the numbers to 2 past the decimal point, so that 10000.56 becomes \"$10,000.56\" and 10001.054 becomes \"$10,001.05\". **WARNING**: you should re-run the block above (or run all blocks) if you want to run this block a second time when doing the bonus, since if the numbers are converted to strings, you can't use any number formatting functions on them anymore. You'll know this has happened because you'll get the following error: \"ValueError: Unknown format code 'f' for object of type 'str'\"\n"
   ]
  },
  {
   "cell_type": "code",
   "execution_count": null,
   "id": "fee27236",
   "metadata": {},
   "outputs": [],
   "source": [
    "# Read in the NASDAQ stocks data from the file 'nasdaq.csv'"
   ]
  },
  {
   "cell_type": "code",
   "execution_count": null,
   "id": "c5682d7c",
   "metadata": {},
   "outputs": [],
   "source": [
    "# challenge: use the .apply method and a lambda function to convert Index Weight to a decimal number."
   ]
  },
  {
   "cell_type": "code",
   "execution_count": null,
   "id": "6e199bb0",
   "metadata": {},
   "outputs": [],
   "source": [
    "# Challenge: use the .apply method and a lambda to convert Volume to numbers so you can calculate the total volume. \"M\" means million in this context, so 1.5M should become 1500000. As a bonus, do this without changing the original column."
   ]
  },
  {
   "cell_type": "code",
   "execution_count": null,
   "id": "74abe8a2",
   "metadata": {},
   "outputs": [],
   "source": [
    "# ternaries and lambdas\n",
    "\n",
    "# Write a named function that, given a stock symbol string, returns \"standard\" if it's over 3 characters long and \"short\" if it's 3 characters or less.\n",
    "    \n",
    "# Rewrite the above function to use a ternary operator.\n",
    "\n",
    "# Skip the intermediate variable and write the above function as a one-liner.\n",
    "\n",
    "# Now let's rewrite the function as a lambda function.\n",
    "\n",
    "# Use the above lambda function to create a series of stock lengths from the \"Symbol\" column in the stocks dataframe."
   ]
  },
  {
   "cell_type": "code",
   "execution_count": null,
   "id": "3c98ec4e",
   "metadata": {},
   "outputs": [],
   "source": [
    "# challenge: create a column called \"Advice\" that contains \"buy\" if the stock price is under 200 and \"sell\" if it's at least 200. Use apply and a lambda function with a ternary."
   ]
  },
  {
   "cell_type": "markdown",
   "id": "50a954e6",
   "metadata": {},
   "source": [
    "# Our Goal\n",
    "\n",
    "Create a bar graph of the top 5 items by total revenue for that item."
   ]
  },
  {
   "cell_type": "code",
   "execution_count": null,
   "id": "740aa460",
   "metadata": {},
   "outputs": [],
   "source": [
    "# Read in our chipotle data from chipotle.csv"
   ]
  },
  {
   "cell_type": "code",
   "execution_count": null,
   "id": "c6eb1b8d",
   "metadata": {},
   "outputs": [],
   "source": [
    "# Order price is more accurately called \"item_price\", so rename the column."
   ]
  },
  {
   "cell_type": "code",
   "execution_count": null,
   "id": "dae58538",
   "metadata": {},
   "outputs": [],
   "source": [
    "# What was the most expensive item in an order?"
   ]
  },
  {
   "cell_type": "code",
   "execution_count": null,
   "id": "78a20682",
   "metadata": {},
   "outputs": [],
   "source": [
    "# Use groupby to find how many times someone ordered the chicken bowl."
   ]
  },
  {
   "cell_type": "code",
   "execution_count": null,
   "id": "e2646841",
   "metadata": {},
   "outputs": [],
   "source": [
    "# Use groupby to get total revenue for the chicken bowl."
   ]
  },
  {
   "cell_type": "code",
   "execution_count": null,
   "id": "82888a32",
   "metadata": {},
   "outputs": [],
   "source": [
    "# get top sellers by revenue"
   ]
  },
  {
   "cell_type": "code",
   "execution_count": null,
   "id": "d5ee0b01",
   "metadata": {},
   "outputs": [],
   "source": [
    "# Plot the top 5 items by revenue using a bmh-style bar chart"
   ]
  },
  {
   "cell_type": "code",
   "execution_count": null,
   "id": "a4680b4e",
   "metadata": {},
   "outputs": [],
   "source": [
    "# Write the following code into the `app.py` file in the same directory as this notebook."
   ]
  },
  {
   "cell_type": "markdown",
   "id": "e389934c",
   "metadata": {},
   "source": [
    "### Running Our Code\n",
    "\n",
    "We'll be able to follow a slimmed-down version of the setup we had for the previous file, since we've already created and configured our environment and installed the necessary packages.\n",
    "\n",
    "Open a terminal. If you still have the terminal open from the previous file, you can use that one.\n",
    "\n",
    "There are two important things to check: are you in the right **directory** and are you in the right **python environment**.\n",
    "\n",
    "Double-check that you're in the right **directory**. The path part of your prompt should say `C:\\Users\\[username]\\Downloads\\data-visualization-curriculum-main` on Windows (with your username in place of \"[username]\") and simply `data-visualization-curriculum-main` on macOS.\n",
    "\n",
    "If it does not, then you can:\n",
    "\n",
    "1. Type in `cd %USERPROFILE%` on Windows or `cd ~` on macOS, and hit Return/Enter.\n",
    "2. Type in `cd Downloads\\data-visualization-curriculum-main` on Windows, or the same command but with `/` instead of `\\` on macOS. Then hit Return/Enter.\n",
    "\n",
    "If it does _not_ says `(dv-env)` at the left of the prompt, then your data visualization **python environment** is not active, and you need to run the command `conda activate dv-env` to make it active.\n",
    "\n",
    "If your prompt says you're in the right directory and you have the right python environment active, then you can run the following command to start our Dash app:\n",
    "\n",
    "`python app.py`\n",
    "\n",
    "Then double-check that it's displaying our message by going to the URL it provides. If it does, then you're ready for the next step!"
   ]
  },
  {
   "cell_type": "markdown",
   "id": "2004cad7",
   "metadata": {},
   "source": [
    "### Reading in the Data\n",
    "\n",
    "We'll be using the chipotle data again, but this time we'll be reading it in in a file.\n",
    "\n",
    "##### Creating the DataFrame\n",
    "\n",
    "Back in your `app.py` file, import the `pandas` library and read in the data from the `chipotle.csv` file. Create a DataFrame with the top 5 best sellers by revenue.  For now, just print the DataFrame. Your code should look something like this:"
   ]
  },
  {
   "cell_type": "code",
   "execution_count": null,
   "id": "a3dca2af",
   "metadata": {},
   "outputs": [],
   "source": [
    "from dash import Dash, html, dcc\n",
    "import plotly.express as px\n",
    "import pandas as pd\n",
    "\n",
    "ordered_items = pd.read_csv(\"chipotle.csv\")\n",
    "ordered_items[\"item_price_as_number\"] = ordered_items[\"order_price\"].apply(lambda price: float(price.strip(\"$\")))\n",
    "item_revenue = ordered_items.groupby(\"item_name\")[\"item_price_as_number\"].sum()\n",
    "top_5 = item_revenue.nlargest(5)\n",
    "print(top_5)\n",
    "\n",
    "app = Dash()\n",
    "app.layout = html.H1(\"Hello, Dash!\")\n",
    "app.run(debug=True)"
   ]
  },
  {
   "cell_type": "code",
   "execution_count": null,
   "id": "4102b460",
   "metadata": {},
   "outputs": [],
   "source": []
  },
  {
   "cell_type": "markdown",
   "id": "6fd2798f",
   "metadata": {},
   "source": [
    "### Graphing Our Data\n",
    "\n",
    "Let's add a pie chart of our data. Add the following code after our DataFrame work but before our Dash code.\n",
    "\n",
    "Note that the index here is the item names, and the values are the total revenue for each item."
   ]
  },
  {
   "cell_type": "code",
   "execution_count": null,
   "id": "3675a569",
   "metadata": {},
   "outputs": [],
   "source": [
    "pie_figure = px.pie(\n",
    "  top_5,\n",
    "  values=\"item_price\",\n",
    "  names=top_5.index,\n",
    ")"
   ]
  },
  {
   "cell_type": "markdown",
   "id": "41704231",
   "metadata": {},
   "source": [
    "Now, in our Dash code, change the `html.H1` to an `html.Div`, and use `dcc.Graph` with the pie chart passed in as the figure. The Dash code should look something like this:"
   ]
  },
  {
   "cell_type": "code",
   "execution_count": null,
   "id": "c0d6f973",
   "metadata": {},
   "outputs": [],
   "source": [
    "app = Dash()\n",
    "app.layout = html.Div(dcc.Graph(figure=pie_figure))\n",
    "app.run(debug=True)"
   ]
  },
  {
   "cell_type": "markdown",
   "id": "5f401207",
   "metadata": {},
   "source": [
    "### Adding More Graphs\n",
    "\n",
    "Let's add 3 more graphs, and then we'll have some content with which to explore Dash's Bootstrap layout and styling features.\n",
    "\n",
    "First, add a bar chart, a horizontal bar chart, and a scatter plot to your code."
   ]
  },
  {
   "cell_type": "code",
   "execution_count": null,
   "id": "73081a5a",
   "metadata": {},
   "outputs": [],
   "source": [
    "bar_figure = px.bar(\n",
    "  top_5,\n",
    "  x=top_5.index,\n",
    "  y=\"item_price\",\n",
    ")\n",
    "\n",
    "bar_h_figure = px.bar(\n",
    "  top_5,\n",
    "  x=\"item_price\",\n",
    "  y=top_5.index,\n",
    "  orientation=\"h\",\n",
    ")\n",
    "\n",
    "scatter_figure = px.scatter(\n",
    "  top_5,\n",
    "  x=top_5.index,\n",
    "  y=\"item_price\",\n",
    "  color=\"item_price\",\n",
    "  size=\"item_price\",\n",
    ")"
   ]
  },
  {
   "cell_type": "markdown",
   "id": "da6567f1",
   "metadata": {},
   "source": [
    "### Adding Multiple Graphs\n",
    "\n",
    "To add multiple graphs, we can use the `html.Div` component to create a container for each graph. Each graph will be a `dcc.Graph` component.\n",
    "\n",
    "The big change to make this possible is that, instead of one `dcc.Graph` component, we will have a list of `dcc.Graph` components, each with its own figure.\n",
    "\n",
    "Change the `app.layout` line to the following:"
   ]
  },
  {
   "cell_type": "code",
   "execution_count": null,
   "id": "4e5bb924",
   "metadata": {},
   "outputs": [],
   "source": [
    "app.layout = html.Div([\n",
    "  dcc.Graph(figure=pie_figure),\n",
    "  dcc.Graph(figure=bar_figure),\n",
    "  dcc.Graph(figure=bar_h_figure),\n",
    "  dcc.Graph(figure=scatter_figure),\n",
    "])"
   ]
  },
  {
   "cell_type": "markdown",
   "id": "431bfa9e",
   "metadata": {},
   "source": [
    "Check your results. You should have all four graphs displayed on the page, each in its own section.\n",
    "\n",
    "In our next step, we'll use Bootstrap to arrange our graphs in two rows."
   ]
  },
  {
   "cell_type": "markdown",
   "id": "da0e023d",
   "metadata": {},
   "source": [
    "### Layout with Bootstrap\n",
    "\n",
    "Bootstrap is a popular CSS framework that makes it easy to create responsive layouts. We'll use it to arrange our graphs in two rows.\n",
    "\n",
    "To start, we'll need to import the `dash_bootstrap_components` library.\n",
    "\n",
    "Use the following code in our import section at the top of `app.py` to import the necessary component, renaming it to `dbc`:"
   ]
  },
  {
   "cell_type": "code",
   "execution_count": null,
   "id": "73e27ee7",
   "metadata": {},
   "outputs": [],
   "source": [
    "import dash_bootstrap_components as dbc"
   ]
  },
  {
   "cell_type": "markdown",
   "id": "fa554982",
   "metadata": {},
   "source": [
    "Now, we'll set the `app` variable to use the Bootstrap theme by telling it to use an external stylesheet. Replace the regular call to Dash with the following code:"
   ]
  },
  {
   "cell_type": "code",
   "execution_count": null,
   "id": "6ad8ff2f",
   "metadata": {},
   "outputs": [],
   "source": [
    "app = Dash(external_stylesheets=[dbc.themes.COSMO])"
   ]
  },
  {
   "cell_type": "markdown",
   "id": "48925987",
   "metadata": {},
   "source": [
    "Now we can use Bootstrap components to create our layout. We'll use the `dbc.Container`, `dbc.Row`, and `dbc.Col` components to arrange our graphs in two rows.\n",
    "\n",
    "First, let's create a container and one row. Replace the `app.layout` line with the following code:"
   ]
  },
  {
   "cell_type": "code",
   "execution_count": null,
   "id": "bc79424d",
   "metadata": {},
   "outputs": [],
   "source": [
    "app.layout = dbc.Container([\n",
    "  dbc.Row([\n",
    "    dbc.Col(dcc.Graph(figure=pie_figure), xl=6),\n",
    "    dbc.Col( dcc.Graph(figure=bar_figure), xl=6),\n",
    "  ]),\n",
    "])"
   ]
  },
  {
   "cell_type": "markdown",
   "id": "683238f9",
   "metadata": {},
   "source": [
    "Now, let's add a second row with the remaining graphs. Update the `app.layout` line to include two rows, each with two columns:"
   ]
  },
  {
   "cell_type": "code",
   "execution_count": null,
   "id": "53da254b",
   "metadata": {},
   "outputs": [],
   "source": [
    "app.layout = dbc.Container([\n",
    "  dbc.Row([\n",
    "    dbc.Col(dcc.Graph(figure=pie_figure), xl=6),\n",
    "    dbc.Col(dcc.Graph(figure=bar_figure), xl=6),\n",
    "  ]),\n",
    "\n",
    "  dbc.Row([\n",
    "    dbc.Col(dcc.Graph(figure=bar_h_figure), xl=6),\n",
    "    dbc.Col(dcc.Graph(figure=scatter_figure), xl=6),\n",
    "  ]),\n",
    "])"
   ]
  },
  {
   "cell_type": "markdown",
   "id": "f50eeccc",
   "metadata": {},
   "source": [
    "Try changing the size of your window to see how the graphs rearrange themselves. Bootstrap will automatically adjust the layout based on the screen size, applying the width of 6 (which is half the width of the row) to each column _only_ on \"xl\" screens (extra large screens, which are 1200px or wider). On smaller screens, the columns will stack vertically.\n",
    "\n",
    "Try changing the numbers next to `xl`, taking care to always make each row's numbers add up to 12. For example, you could try `xl=4` for one column and `xl=8` for the other, which would make one column take up one-third of the row and the other two-thirds."
   ]
  }
 ],
 "metadata": {
  "kernelspec": {
   "display_name": "base",
   "language": "python",
   "name": "python3"
  },
  "language_info": {
   "codemirror_mode": {
    "name": "ipython",
    "version": 3
   },
   "file_extension": ".py",
   "mimetype": "text/x-python",
   "name": "python",
   "nbconvert_exporter": "python",
   "pygments_lexer": "ipython3",
   "version": "3.12.7"
  }
 },
 "nbformat": 4,
 "nbformat_minor": 5
}
